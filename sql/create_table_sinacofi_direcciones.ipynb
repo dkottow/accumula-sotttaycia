{
    "metadata": {
        "kernelspec": {
            "name": "SQL",
            "display_name": "SQL",
            "language": "sql"
        },
        "language_info": {
            "name": "sql",
            "version": ""
        }
    },
    "nbformat_minor": 2,
    "nbformat": 4,
    "cells": [
        {
            "cell_type": "code",
            "source": [
                "CREATE SCHEMA Sinacofi \r\n",
                "GO \r\n",
                ""
            ],
            "metadata": {
                "azdata_cell_guid": "145eb64d-5a6f-4f69-8067-f3d5cfb01a90"
            },
            "outputs": [
                {
                    "output_type": "error",
                    "ename": "",
                    "evalue": "Msg 15247, Level 16, State 1, Line 1\r\nUser does not have permission to perform this action.",
                    "traceback": []
                },
                {
                    "output_type": "error",
                    "ename": "",
                    "evalue": "Msg 2759, Level 16, State 0, Line 1\r\nCREATE SCHEMA failed due to previous errors.",
                    "traceback": []
                },
                {
                    "output_type": "display_data",
                    "data": {
                        "text/html": "Total execution time: 00:00:00.222"
                    },
                    "metadata": {}
                }
            ],
            "execution_count": 1
        },
        {
            "cell_type": "code",
            "source": [
                "DROP TABLE [Sinacofi].[Direcciones]"
            ],
            "metadata": {
                "azdata_cell_guid": "dd5f6884-9ed9-409c-ba09-2e0479be7339"
            },
            "outputs": [
                {
                    "output_type": "display_data",
                    "data": {
                        "text/html": "Commands completed successfully."
                    },
                    "metadata": {}
                },
                {
                    "output_type": "display_data",
                    "data": {
                        "text/html": "Total execution time: 00:00:00.203"
                    },
                    "metadata": {}
                }
            ],
            "execution_count": 20
        },
        {
            "cell_type": "code",
            "source": [
                "DROP PROCEDURE [dbo].[usp_Insert_Sinacofi_Direcciones]\r\n",
                ""
            ],
            "metadata": {
                "azdata_cell_guid": "eeb30cdf-5b82-48c6-8775-e40aec919e57"
            },
            "outputs": [
                {
                    "output_type": "display_data",
                    "data": {
                        "text/html": "Commands completed successfully."
                    },
                    "metadata": {}
                },
                {
                    "output_type": "display_data",
                    "data": {
                        "text/html": "Total execution time: 00:00:00.161"
                    },
                    "metadata": {}
                }
            ],
            "execution_count": 1
        },
        {
            "cell_type": "code",
            "source": [
                "DROP TYPE ut_Sinacofi_Direcciones"
            ],
            "metadata": {
                "azdata_cell_guid": "d1a6de61-9844-406c-9647-e37dfa3c8e52"
            },
            "outputs": [
                {
                    "output_type": "display_data",
                    "data": {
                        "text/html": "Commands completed successfully."
                    },
                    "metadata": {}
                },
                {
                    "output_type": "display_data",
                    "data": {
                        "text/html": "Total execution time: 00:00:00.177"
                    },
                    "metadata": {}
                }
            ],
            "execution_count": 2
        },
        {
            "cell_type": "code",
            "source": [
                "CREATE TABLE [Sinacofi].[Direcciones] ( \r\n",
                "    Id INT IDENTITY,\r\n",
                "    CreatedOn DATETIME,\r\n",
                "    CreatedByUser VARCHAR(80),\r\n",
                "    CreatedFromProcess VARCHAR(8000),\r\n",
                "    CreatedByQuery VARCHAR(max),\r\n",
                "\r\n",
                "    Direccion VARCHAR(8000),\r\n",
                "    Ciudad VARCHAR(80),\r\n",
                "    Comuna VARCHAR(80),\r\n",
                "    Fecha VARCHAR(8)    \r\n",
                ");       \r\n",
                ""
            ],
            "metadata": {
                "azdata_cell_guid": "7896794a-76f9-4847-bfb7-e174a43e0240"
            },
            "outputs": [
                {
                    "output_type": "display_data",
                    "data": {
                        "text/html": "Commands completed successfully."
                    },
                    "metadata": {}
                },
                {
                    "output_type": "display_data",
                    "data": {
                        "text/html": "Total execution time: 00:00:00.177"
                    },
                    "metadata": {}
                }
            ],
            "execution_count": 21
        },
        {
            "cell_type": "code",
            "source": [
                "-- OJO campos deben ir en orden alfabetico\r\n",
                "CREATE TYPE ut_Sinacofi_Direcciones AS TABLE  \r\n",
                "(  \r\n",
                "    Ciudad VARCHAR(80),\r\n",
                "    Comuna VARCHAR(80),\r\n",
                "\r\n",
                "    CreatedByQuery VARCHAR(max),\r\n",
                "    CreatedByUser VARCHAR(8000),\r\n",
                "    CreatedFromProcess VARCHAR(8000),\r\n",
                "\r\n",
                "    Direccion VARCHAR(8000),\r\n",
                "    Fecha VARCHAR(8)    \r\n",
                ")  \r\n",
                ""
            ],
            "metadata": {
                "azdata_cell_guid": "3506e100-a754-47b9-a51f-09b94dc7f026"
            },
            "outputs": [
                {
                    "output_type": "display_data",
                    "data": {
                        "text/html": "Commands completed successfully."
                    },
                    "metadata": {}
                },
                {
                    "output_type": "display_data",
                    "data": {
                        "text/html": "Total execution time: 00:00:00.174"
                    },
                    "metadata": {}
                }
            ],
            "execution_count": 3
        },
        {
            "cell_type": "code",
            "source": [
                "\r\n",
                "CREATE PROCEDURE [dbo].[usp_Insert_Sinacofi_Direcciones](@rows ut_Sinacofi_Direcciones READONLY)  \r\n",
                "AS  \r\n",
                "BEGIN  \r\n",
                "    INSERT INTO [Sinacofi].[Direcciones] \r\n",
                "    SELECT GETDATE(), CreatedByUser, CreatedFromProcess, CreatedByQuery, \r\n",
                "        Direccion, Ciudad, Comuna, Fecha\r\n",
                "    FROM @rows;\r\n",
                "END"
            ],
            "metadata": {
                "azdata_cell_guid": "512d953d-49b7-4905-9f23-d6c930e80d5e",
                "tags": []
            },
            "outputs": [
                {
                    "output_type": "display_data",
                    "data": {
                        "text/html": "Commands completed successfully."
                    },
                    "metadata": {}
                },
                {
                    "output_type": "display_data",
                    "data": {
                        "text/html": "Total execution time: 00:00:00.202"
                    },
                    "metadata": {}
                }
            ],
            "execution_count": 4
        },
        {
            "cell_type": "markdown",
            "source": [
                "Probar insertar un registro"
            ],
            "metadata": {
                "azdata_cell_guid": "2f9bf0fd-eaaf-4aed-ac39-b45aec450374"
            }
        },
        {
            "cell_type": "code",
            "source": [
                "DECLARE @table AS ut_Sinacofi_Direcciones;\r\n",
                "\r\n",
                "INSERT INTO @table\r\n",
                "(\r\n",
                "    CreatedByUser, CreatedFromProcess, CreatedByQuery,\r\n",
                "    Direccion, Ciudad, Comuna, Fecha\r\n",
                ")\r\n",
                "VALUES\r\n",
                "(\r\n",
                "    'dkottow@sottaycia.cl', 'SQL', '10.562.459-K', \r\n",
                "    'Ricardo Lyon 123 depto 456', 'Santiago', 'Providencia', '200101'\r\n",
                ")\r\n",
                "\r\n",
                "EXEC usp_Insert_Sinacofi_Direcciones @table\r\n",
                ""
            ],
            "metadata": {
                "azdata_cell_guid": "b16c06c0-60f3-4a5d-9a26-c0197769efe7"
            },
            "outputs": [
                {
                    "output_type": "display_data",
                    "data": {
                        "text/html": "(1 row affected)"
                    },
                    "metadata": {}
                },
                {
                    "output_type": "display_data",
                    "data": {
                        "text/html": "(1 row affected)"
                    },
                    "metadata": {}
                },
                {
                    "output_type": "display_data",
                    "data": {
                        "text/html": "Total execution time: 00:00:00.200"
                    },
                    "metadata": {}
                }
            ],
            "execution_count": 5
        }
    ]
}