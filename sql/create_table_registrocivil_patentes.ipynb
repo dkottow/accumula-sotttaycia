{
    "metadata": {
        "kernelspec": {
            "name": "SQL",
            "display_name": "SQL",
            "language": "sql"
        },
        "language_info": {
            "name": "sql",
            "version": ""
        }
    },
    "nbformat_minor": 2,
    "nbformat": 4,
    "cells": [
        {
            "cell_type": "code",
            "source": [
                "CREATE SCHEMA RegistroCivil \r\n",
                "GO \r\n",
                ""
            ],
            "metadata": {
                "azdata_cell_guid": "145eb64d-5a6f-4f69-8067-f3d5cfb01a90"
            },
            "outputs": [
                {
                    "output_type": "display_data",
                    "data": {
                        "text/html": "Commands completed successfully."
                    },
                    "metadata": {}
                },
                {
                    "output_type": "display_data",
                    "data": {
                        "text/html": "Total execution time: 00:00:00.219"
                    },
                    "metadata": {}
                }
            ],
            "execution_count": 1
        },
        {
            "cell_type": "code",
            "source": [
                "DROP TYPE ut_RegistroCivil_Patentes;"
            ],
            "metadata": {
                "azdata_cell_guid": "eab3f536-9423-4a69-8f1c-9f01e27e7d81"
            },
            "outputs": [
                {
                    "output_type": "display_data",
                    "data": {
                        "text/html": "Commands completed successfully."
                    },
                    "metadata": {}
                },
                {
                    "output_type": "display_data",
                    "data": {
                        "text/html": "Total execution time: 00:00:00.165"
                    },
                    "metadata": {}
                }
            ],
            "execution_count": 8
        },
        {
            "cell_type": "code",
            "source": [
                "DROP PROCEDURE [dbo].[usp_Insert_RegistroCivil_Patentes]\r\n",
                ""
            ],
            "metadata": {
                "azdata_cell_guid": "eeb30cdf-5b82-48c6-8775-e40aec919e57",
                "tags": []
            },
            "outputs": [
                {
                    "output_type": "display_data",
                    "data": {
                        "text/html": "Commands completed successfully."
                    },
                    "metadata": {}
                },
                {
                    "output_type": "display_data",
                    "data": {
                        "text/html": "Total execution time: 00:00:00.206"
                    },
                    "metadata": {}
                }
            ],
            "execution_count": 7
        },
        {
            "cell_type": "code",
            "source": [
                "DROP TABLE [RegistroCivil].[Patentes]"
            ],
            "metadata": {
                "azdata_cell_guid": "dd5f6884-9ed9-409c-ba09-2e0479be7339"
            },
            "outputs": [
                {
                    "output_type": "display_data",
                    "data": {
                        "text/html": "Commands completed successfully."
                    },
                    "metadata": {}
                },
                {
                    "output_type": "display_data",
                    "data": {
                        "text/html": "Total execution time: 00:00:00.182"
                    },
                    "metadata": {}
                }
            ],
            "execution_count": 3
        },
        {
            "cell_type": "code",
            "source": [
                "CREATE TABLE [RegistroCivil].[Patentes] ( \r\n",
                "    Id INT IDENTITY,\r\n",
                "    CreatedOn DATETIME,\r\n",
                "    CreatedByUser VARCHAR(80),\r\n",
                "    CreatedFromProcess VARCHAR(8000),\r\n",
                "    CreatedByQuery VARCHAR(max),\r\n",
                "\r\n",
                "    anio INT,\r\n",
                "    chasis varchar(80),\r\n",
                "    color VARCHAR(80),\r\n",
                "    marca VARCHAR(80),\r\n",
                "    modelo VARCHAR(80),\r\n",
                "    motor VARCHAR(80),\r\n",
                "    multa VARCHAR(80),\r\n",
                "    nombre VARCHAR(8000),\r\n",
                "    rut VARCHAR(80),\r\n",
                "    tipo VARCHAR(80),\r\n",
                "    ultimaTransferencia VARCHAR(8) --DDMMYYYY\r\n",
                ");       \r\n",
                ""
            ],
            "metadata": {
                "azdata_cell_guid": "7896794a-76f9-4847-bfb7-e174a43e0240"
            },
            "outputs": [
                {
                    "output_type": "display_data",
                    "data": {
                        "text/html": "Commands completed successfully."
                    },
                    "metadata": {}
                },
                {
                    "output_type": "display_data",
                    "data": {
                        "text/html": "Total execution time: 00:00:00.182"
                    },
                    "metadata": {}
                }
            ],
            "execution_count": 2
        },
        {
            "cell_type": "code",
            "source": [
                "-- OJO debe ir en orden alfabetico para que funcione con la API\r\n",
                "CREATE TYPE ut_RegistroCivil_Patentes AS TABLE  \r\n",
                "(  \r\n",
                "    anio INT,\r\n",
                "    chasis varchar(80),\r\n",
                "    color VARCHAR(80),\r\n",
                "\r\n",
                "    CreatedByQuery VARCHAR(max),\r\n",
                "    CreatedByUser VARCHAR(80),\r\n",
                "    CreatedFromProcess VARCHAR(8000),\r\n",
                "\r\n",
                "    marca VARCHAR(80),\r\n",
                "    modelo VARCHAR(80),\r\n",
                "    motor VARCHAR(80),\r\n",
                "    multa VARCHAR(80),\r\n",
                "    nombre VARCHAR(8000),\r\n",
                "    rut VARCHAR(80),\r\n",
                "    tipo VARCHAR(80),\r\n",
                "    ultimaTransferencia VARCHAR(8) --DDMMYYYY\r\n",
                ")  \r\n",
                ""
            ],
            "metadata": {
                "azdata_cell_guid": "3506e100-a754-47b9-a51f-09b94dc7f026"
            },
            "outputs": [
                {
                    "output_type": "display_data",
                    "data": {
                        "text/html": "Commands completed successfully."
                    },
                    "metadata": {}
                },
                {
                    "output_type": "display_data",
                    "data": {
                        "text/html": "Total execution time: 00:00:00.186"
                    },
                    "metadata": {}
                }
            ],
            "execution_count": 9
        },
        {
            "cell_type": "code",
            "source": [
                "\r\n",
                "CREATE PROCEDURE [dbo].[usp_Insert_RegistroCivil_Patentes](@rows ut_RegistroCivil_Patentes READONLY)  \r\n",
                "AS  \r\n",
                "BEGIN  \r\n",
                "    INSERT INTO [RegistroCivil].[Patentes] \r\n",
                "    SELECT GETDATE(), CreatedByUser, CreatedFromProcess, CreatedByQuery, \r\n",
                "        anio, chasis, color, marca, modelo, motor, multa, nombre, rut, tipo, ultimaTransferencia\r\n",
                "    FROM @rows;\r\n",
                "END"
            ],
            "metadata": {
                "azdata_cell_guid": "512d953d-49b7-4905-9f23-d6c930e80d5e",
                "tags": []
            },
            "outputs": [
                {
                    "output_type": "display_data",
                    "data": {
                        "text/html": "Commands completed successfully."
                    },
                    "metadata": {}
                },
                {
                    "output_type": "display_data",
                    "data": {
                        "text/html": "Total execution time: 00:00:00.180"
                    },
                    "metadata": {}
                }
            ],
            "execution_count": 10
        },
        {
            "cell_type": "markdown",
            "source": [
                "Probar insertar un registro"
            ],
            "metadata": {
                "azdata_cell_guid": "2f9bf0fd-eaaf-4aed-ac39-b45aec450374"
            }
        },
        {
            "cell_type": "code",
            "source": [
                "DECLARE @table AS ut_RegistroCivil_Patentes;\r\n",
                "\r\n",
                "INSERT INTO @table\r\n",
                "\r\n",
                "(\r\n",
                "    CreatedByUser, CreatedFromProcess, CreatedByQuery,\r\n",
                "    anio, chasis, color, marca, modelo, motor, multa, nombre, rut, tipo, ultimaTransferencia\r\n",
                ")\r\n",
                "VALUES\r\n",
                "(\r\n",
                "    'dkottow', 'SQL', '10.562.459-K', \r\n",
                "    2005, 'Chasis no 3954873254873245', 'blanco invierno', 'Chevrolet', 'LUV Camioneta', '927365743256-motor', '1000000', 'daniel kottow keim', '10563459-k', 'pickup', '31122010' \r\n",
                ")\r\n",
                "\r\n",
                "EXEC usp_Insert_RegistroCivil_Patentes @table\r\n",
                ""
            ],
            "metadata": {
                "azdata_cell_guid": "b16c06c0-60f3-4a5d-9a26-c0197769efe7"
            },
            "outputs": [
                {
                    "output_type": "display_data",
                    "data": {
                        "text/html": "(1 row affected)"
                    },
                    "metadata": {}
                },
                {
                    "output_type": "display_data",
                    "data": {
                        "text/html": "(1 row affected)"
                    },
                    "metadata": {}
                },
                {
                    "output_type": "display_data",
                    "data": {
                        "text/html": "Total execution time: 00:00:00.197"
                    },
                    "metadata": {}
                }
            ],
            "execution_count": 6
        }
    ]
}