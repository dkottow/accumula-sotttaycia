{
    "metadata": {
        "kernelspec": {
            "name": "SQL",
            "display_name": "SQL",
            "language": "sql"
        },
        "language_info": {
            "name": "sql",
            "version": ""
        }
    },
    "nbformat_minor": 2,
    "nbformat": 4,
    "cells": [
        {
            "cell_type": "code",
            "source": [
                "CREATE SCHEMA Smartcob \r\n",
                "GO \r\n",
                ""
            ],
            "metadata": {
                "azdata_cell_guid": "145eb64d-5a6f-4f69-8067-f3d5cfb01a90"
            },
            "outputs": [
                {
                    "output_type": "error",
                    "ename": "",
                    "evalue": "Msg 2714, Level 16, State 6, Line 1\r\nThere is already an object named 'Smartcob' in the database.",
                    "traceback": []
                },
                {
                    "output_type": "error",
                    "ename": "",
                    "evalue": "Msg 2759, Level 16, State 0, Line 1\r\nCREATE SCHEMA failed due to previous errors.",
                    "traceback": []
                },
                {
                    "output_type": "display_data",
                    "data": {
                        "text/html": "Total execution time: 00:00:00.308"
                    },
                    "metadata": {}
                }
            ],
            "execution_count": 1
        },
        {
            "cell_type": "code",
            "source": [
                "DROP TABLE [Smartcob].[CPH_PT]"
            ],
            "metadata": {
                "azdata_cell_guid": "dd5f6884-9ed9-409c-ba09-2e0479be7339"
            },
            "outputs": [
                {
                    "output_type": "error",
                    "ename": "",
                    "evalue": "Msg 3701, Level 11, State 5, Line 1\r\nCannot drop the table 'Smartcob.Pagos', because it does not exist or you do not have permission.",
                    "traceback": []
                },
                {
                    "output_type": "display_data",
                    "data": {
                        "text/html": "Total execution time: 00:00:00.226"
                    },
                    "metadata": {}
                }
            ],
            "execution_count": 2
        },
        {
            "cell_type": "code",
            "source": [
                "CREATE TABLE [Smartcob].[CPH_PT] ( \r\n",
                "    Id INT IDENTITY,\r\n",
                "    CreatedOn DATETIME,\r\n",
                "    CreatedFromProcess VARCHAR(8000),\r\n",
                "    CreatedByQuery VARCHAR(max),\r\n",
                "\r\n",
                "    monto DECIMAL(16,0),\r\n",
                "    fecha DATE,\r\n",
                "    tipoDePago VARCHAR(8000),\r\n",
                "    itemId VARCHAR(80)\r\n",
                ");       \r\n",
                ""
            ],
            "metadata": {
                "azdata_cell_guid": "7896794a-76f9-4847-bfb7-e174a43e0240"
            },
            "outputs": [
                {
                    "output_type": "display_data",
                    "data": {
                        "text/html": "Commands completed successfully."
                    },
                    "metadata": {}
                },
                {
                    "output_type": "display_data",
                    "data": {
                        "text/html": "Total execution time: 00:00:00.590"
                    },
                    "metadata": {}
                }
            ],
            "execution_count": 1
        },
        {
            "cell_type": "code",
            "source": [
                "CREATE TYPE ut_Smartcob_CPH_PT AS TABLE  \r\n",
                "(  \r\n",
                "    CreatedFromProcess VARCHAR(8000),\r\n",
                "    CreatedByQuery VARCHAR(max),\r\n",
                "    notificacion VARCHAR(8000),\r\n",
                "\r\n",
                "    monto DECIMAL(16,0),\r\n",
                "    fecha DATE,\r\n",
                "    tipoDePago VARCHAR(8000),\r\n",
                "    itemId VARCHAR(80)\r\n",
                ")  \r\n",
                ""
            ],
            "metadata": {
                "azdata_cell_guid": "3506e100-a754-47b9-a51f-09b94dc7f026"
            },
            "outputs": [
                {
                    "output_type": "display_data",
                    "data": {
                        "text/html": "Commands completed successfully."
                    },
                    "metadata": {}
                },
                {
                    "output_type": "display_data",
                    "data": {
                        "text/html": "Total execution time: 00:00:00.545"
                    },
                    "metadata": {}
                }
            ],
            "execution_count": 2
        },
        {
            "cell_type": "code",
            "source": [
                "DROP PROCEDURE [dbo].[usp_Insert_Smartcob_CPH_PT]\r\n",
                ""
            ],
            "metadata": {
                "azdata_cell_guid": "eeb30cdf-5b82-48c6-8775-e40aec919e57"
            },
            "outputs": [],
            "execution_count": null
        },
        {
            "cell_type": "code",
            "source": [
                "\r\n",
                "CREATE PROCEDURE [dbo].[usp_Insert_Smartcob_CPH_PT](@rows ut_Smartcob_CPH_PT READONLY)  \r\n",
                "AS  \r\n",
                "BEGIN  \r\n",
                "    INSERT INTO [Smartcob].[CPH_PT] \r\n",
                "    SELECT GETDATE(), CreatedFromProcess, CreatedByQuery, \r\n",
                "        monto, fecha, tipoDePago, itemId\r\n",
                "    FROM @rows;\r\n",
                "END"
            ],
            "metadata": {
                "azdata_cell_guid": "512d953d-49b7-4905-9f23-d6c930e80d5e",
                "tags": []
            },
            "outputs": [
                {
                    "output_type": "display_data",
                    "data": {
                        "text/html": "Commands completed successfully."
                    },
                    "metadata": {}
                },
                {
                    "output_type": "display_data",
                    "data": {
                        "text/html": "Total execution time: 00:00:00.392"
                    },
                    "metadata": {}
                }
            ],
            "execution_count": 3
        },
        {
            "cell_type": "markdown",
            "source": [
                "Probar insertar un registro"
            ],
            "metadata": {
                "azdata_cell_guid": "2f9bf0fd-eaaf-4aed-ac39-b45aec450374"
            }
        },
        {
            "cell_type": "code",
            "source": [
                "DECLARE @table AS ut_Smartcob_CPH_PT;\r\n",
                "\r\n",
                "INSERT INTO @table\r\n",
                "(\r\n",
                "    CreatedFromProcess, CreatedByQuery,\r\n",
                "    monto, fecha, tipoDePago, itemId\r\n",
                ")\r\n",
                "VALUES\r\n",
                "(\r\n",
                "    'SQL', 'item-id', \r\n",
                "    124000000, '2001-05-30', 'CPH', 'item-id'\r\n",
                ")\r\n",
                "\r\n",
                "EXEC usp_Insert_Smartcob_CPH_PT @table\r\n",
                ""
            ],
            "metadata": {
                "azdata_cell_guid": "b16c06c0-60f3-4a5d-9a26-c0197769efe7"
            },
            "outputs": [
                {
                    "output_type": "display_data",
                    "data": {
                        "text/html": "(1 row affected)"
                    },
                    "metadata": {}
                },
                {
                    "output_type": "display_data",
                    "data": {
                        "text/html": "(1 row affected)"
                    },
                    "metadata": {}
                },
                {
                    "output_type": "display_data",
                    "data": {
                        "text/html": "Total execution time: 00:00:00.190"
                    },
                    "metadata": {}
                }
            ],
            "execution_count": 4
        }
    ]
}