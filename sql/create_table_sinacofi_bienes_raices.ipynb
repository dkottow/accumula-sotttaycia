{
    "metadata": {
        "kernelspec": {
            "name": "SQL",
            "display_name": "SQL",
            "language": "sql"
        },
        "language_info": {
            "name": "sql",
            "version": ""
        }
    },
    "nbformat_minor": 2,
    "nbformat": 4,
    "cells": [
        {
            "cell_type": "code",
            "source": [
                "CREATE SCHEMA Sinacofi \r\n",
                "GO \r\n",
                ""
            ],
            "metadata": {
                "azdata_cell_guid": "145eb64d-5a6f-4f69-8067-f3d5cfb01a90"
            },
            "outputs": [
                {
                    "output_type": "display_data",
                    "data": {
                        "text/html": "Commands completed successfully."
                    },
                    "metadata": {}
                },
                {
                    "output_type": "display_data",
                    "data": {
                        "text/html": "Total execution time: 00:00:00.409"
                    },
                    "metadata": {}
                }
            ],
            "execution_count": 1
        },
        {
            "cell_type": "code",
            "source": [
                "DROP TABLE [Sinacofi].[BienesRaices]"
            ],
            "metadata": {
                "azdata_cell_guid": "dd5f6884-9ed9-409c-ba09-2e0479be7339"
            },
            "outputs": [
                {
                    "output_type": "display_data",
                    "data": {
                        "text/html": "Commands completed successfully."
                    },
                    "metadata": {}
                },
                {
                    "output_type": "display_data",
                    "data": {
                        "text/html": "Total execution time: 00:00:00.192"
                    },
                    "metadata": {}
                }
            ],
            "execution_count": 3
        },
        {
            "cell_type": "code",
            "source": [
                "DROP TYPE ut_Sinacofi_BienesRaices"
            ],
            "metadata": {
                "azdata_cell_guid": "3cb78cb6-f9af-4dfe-8c08-7215497e6241"
            },
            "outputs": [
                {
                    "output_type": "display_data",
                    "data": {
                        "text/html": "Commands completed successfully."
                    },
                    "metadata": {}
                },
                {
                    "output_type": "display_data",
                    "data": {
                        "text/html": "Total execution time: 00:00:00.202"
                    },
                    "metadata": {}
                }
            ],
            "execution_count": 2
        },
        {
            "cell_type": "code",
            "source": [
                "DROP PROCEDURE [dbo].[usp_Insert_Sinacofi_BienesRaices]\r\n",
                ""
            ],
            "metadata": {
                "azdata_cell_guid": "eeb30cdf-5b82-48c6-8775-e40aec919e57",
                "tags": [
                    "hide_input"
                ]
            },
            "outputs": [
                {
                    "output_type": "display_data",
                    "data": {
                        "text/html": "Commands completed successfully."
                    },
                    "metadata": {}
                },
                {
                    "output_type": "display_data",
                    "data": {
                        "text/html": "Total execution time: 00:00:00.203"
                    },
                    "metadata": {}
                }
            ],
            "execution_count": 1
        },
        {
            "cell_type": "code",
            "source": [
                "CREATE TABLE [Sinacofi].[BienesRaices] ( \r\n",
                "    Id INT IDENTITY,\r\n",
                "    CreatedOn DATETIME,\r\n",
                "    CreatedByUser VARCHAR(8000),\r\n",
                "    CreatedFromProcess VARCHAR(8000),\r\n",
                "    CreatedByQuery VARCHAR(max),\r\n",
                "\r\n",
                "    NumeroDeRol VARCHAR(80),\r\n",
                "    Comuna VARCHAR(80),\r\n",
                "    Direccion VARCHAR(8000),\r\n",
                "    TipodePropiedad VARCHAR(80),\r\n",
                "    Destino VARCHAR(80),\r\n",
                "    Avaluo DECIMAL(16,0)\r\n",
                ");       \r\n",
                ""
            ],
            "metadata": {
                "azdata_cell_guid": "7896794a-76f9-4847-bfb7-e174a43e0240"
            },
            "outputs": [
                {
                    "output_type": "display_data",
                    "data": {
                        "text/html": "Commands completed successfully."
                    },
                    "metadata": {}
                },
                {
                    "output_type": "display_data",
                    "data": {
                        "text/html": "Total execution time: 00:00:00.206"
                    },
                    "metadata": {}
                }
            ],
            "execution_count": 4
        },
        {
            "cell_type": "code",
            "source": [
                "-- OJO debe ir en orden alfabetico para que funcione con la API\r\n",
                "CREATE TYPE ut_Sinacofi_BienesRaices AS TABLE  \r\n",
                "(  \r\n",
                "    Avaluo DECIMAL(16,0),\r\n",
                "    Comuna VARCHAR(80),\r\n",
                "\r\n",
                "    CreatedByQuery VARCHAR(max),\r\n",
                "    CreatedByUser VARCHAR(80),\r\n",
                "    CreatedFromProcess VARCHAR(8000),\r\n",
                "\r\n",
                "    Destino VARCHAR(80),\r\n",
                "    Direccion VARCHAR(8000),\r\n",
                "    NumeroDeRol VARCHAR(80),\r\n",
                "    TipodePropiedad VARCHAR(80)\r\n",
                ")  \r\n",
                ""
            ],
            "metadata": {
                "azdata_cell_guid": "3506e100-a754-47b9-a51f-09b94dc7f026"
            },
            "outputs": [
                {
                    "output_type": "display_data",
                    "data": {
                        "text/html": "Commands completed successfully."
                    },
                    "metadata": {}
                },
                {
                    "output_type": "display_data",
                    "data": {
                        "text/html": "Total execution time: 00:00:00.180"
                    },
                    "metadata": {}
                }
            ],
            "execution_count": 3
        },
        {
            "cell_type": "code",
            "source": [
                "\r\n",
                "CREATE PROCEDURE [dbo].[usp_Insert_Sinacofi_BienesRaices](@rows ut_Sinacofi_BienesRaices READONLY)  \r\n",
                "AS  \r\n",
                "BEGIN  \r\n",
                "    INSERT INTO [Sinacofi].[BienesRaices] \r\n",
                "    SELECT GETDATE(), CreatedByUser, CreatedFromProcess, CreatedByQuery, \r\n",
                "        NumeroDeRol, Comuna, Direccion, TipoDePropiedad, Destino, Avaluo\r\n",
                "    FROM @rows;\r\n",
                "END"
            ],
            "metadata": {
                "azdata_cell_guid": "512d953d-49b7-4905-9f23-d6c930e80d5e",
                "tags": []
            },
            "outputs": [
                {
                    "output_type": "display_data",
                    "data": {
                        "text/html": "Commands completed successfully."
                    },
                    "metadata": {}
                },
                {
                    "output_type": "display_data",
                    "data": {
                        "text/html": "Total execution time: 00:00:00.177"
                    },
                    "metadata": {}
                }
            ],
            "execution_count": 4
        },
        {
            "cell_type": "markdown",
            "source": [
                "Probar insertar un registro"
            ],
            "metadata": {
                "azdata_cell_guid": "2f9bf0fd-eaaf-4aed-ac39-b45aec450374"
            }
        },
        {
            "cell_type": "code",
            "source": [
                "DECLARE @table AS ut_Sinacofi_BienesRaices;\r\n",
                "\r\n",
                "INSERT INTO @table\r\n",
                "(\r\n",
                "    CreatedByUser, CreatedFromProcess, CreatedByQuery,\r\n",
                "    NumeroDeRol, Comuna, Direccion, TipoDePropiedad, Destino, Avaluo\r\n",
                ")\r\n",
                "VALUES\r\n",
                "(\r\n",
                "    'dkottow@sottaycia.cl', 'SQL', 'ROL-ABC-09876', \r\n",
                "    'ROL-ABC-09876', 'LA REINA', 'Alvaro Casanova 345', 'CASA', 'HABITACIONAL', 1100000000\r\n",
                ")\r\n",
                "\r\n",
                "EXEC usp_Insert_Sinacofi_BienesRaices @table\r\n",
                ""
            ],
            "metadata": {
                "azdata_cell_guid": "b16c06c0-60f3-4a5d-9a26-c0197769efe7"
            },
            "outputs": [
                {
                    "output_type": "display_data",
                    "data": {
                        "text/html": "(1 row affected)"
                    },
                    "metadata": {}
                },
                {
                    "output_type": "display_data",
                    "data": {
                        "text/html": "(1 row affected)"
                    },
                    "metadata": {}
                },
                {
                    "output_type": "display_data",
                    "data": {
                        "text/html": "Total execution time: 00:00:00.199"
                    },
                    "metadata": {}
                }
            ],
            "execution_count": 5
        }
    ]
}