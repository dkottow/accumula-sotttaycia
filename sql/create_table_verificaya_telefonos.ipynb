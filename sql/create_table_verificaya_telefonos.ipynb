{
    "metadata": {
        "kernelspec": {
            "name": "SQL",
            "display_name": "SQL",
            "language": "sql"
        },
        "language_info": {
            "name": "sql",
            "version": ""
        }
    },
    "nbformat_minor": 2,
    "nbformat": 4,
    "cells": [
        {
            "cell_type": "code",
            "source": [
                "CREATE SCHEMA VerificaYa \r\n",
                "GO \r\n",
                ""
            ],
            "metadata": {
                "azdata_cell_guid": "145eb64d-5a6f-4f69-8067-f3d5cfb01a90"
            },
            "outputs": [
                {
                    "output_type": "display_data",
                    "data": {
                        "text/html": "Commands completed successfully."
                    },
                    "metadata": {}
                },
                {
                    "output_type": "display_data",
                    "data": {
                        "text/html": "Total execution time: 00:00:00.193"
                    },
                    "metadata": {}
                }
            ],
            "execution_count": 2
        },
        {
            "cell_type": "code",
            "source": [
                "DROP TYPE ut_VerificaYa_Telefonos;"
            ],
            "metadata": {
                "azdata_cell_guid": "eab3f536-9423-4a69-8f1c-9f01e27e7d81"
            },
            "outputs": [
                {
                    "output_type": "display_data",
                    "data": {
                        "text/html": "Commands completed successfully."
                    },
                    "metadata": {}
                },
                {
                    "output_type": "display_data",
                    "data": {
                        "text/html": "Total execution time: 00:00:00.192"
                    },
                    "metadata": {}
                }
            ],
            "execution_count": 5
        },
        {
            "cell_type": "code",
            "source": [
                "DROP PROCEDURE [dbo].[usp_Insert_VerificaYa_Telefonos]\r\n",
                ""
            ],
            "metadata": {
                "azdata_cell_guid": "eeb30cdf-5b82-48c6-8775-e40aec919e57",
                "tags": []
            },
            "outputs": [
                {
                    "output_type": "display_data",
                    "data": {
                        "text/html": "Commands completed successfully."
                    },
                    "metadata": {}
                },
                {
                    "output_type": "display_data",
                    "data": {
                        "text/html": "Total execution time: 00:00:00.180"
                    },
                    "metadata": {}
                }
            ],
            "execution_count": 4
        },
        {
            "cell_type": "code",
            "source": [
                "DROP TABLE [VerificaYa].[Telefonos]"
            ],
            "metadata": {
                "azdata_cell_guid": "dd5f6884-9ed9-409c-ba09-2e0479be7339"
            },
            "outputs": [
                {
                    "output_type": "display_data",
                    "data": {
                        "text/html": "Commands completed successfully."
                    },
                    "metadata": {}
                },
                {
                    "output_type": "display_data",
                    "data": {
                        "text/html": "Total execution time: 00:00:00.182"
                    },
                    "metadata": {}
                }
            ],
            "execution_count": 3
        },
        {
            "cell_type": "code",
            "source": [
                "CREATE TABLE [VerificaYa].[Telefonos] ( \r\n",
                "    Id INT IDENTITY,\r\n",
                "    CreatedOn DATETIME,\r\n",
                "    CreatedByUser VARCHAR(80),\r\n",
                "    CreatedFromProcess VARCHAR(8000),\r\n",
                "    CreatedByQuery VARCHAR(max),\r\n",
                "\r\n",
                "    telefono VARCHAR(80),\r\n",
                "    clasificacion VARCHAR(80),\r\n",
                "    ranking VARCHAR(80),\r\n",
                "    calidad VARCHAR(80),\r\n",
                "    tipo VARCHAR(80),\r\n",
                "    subtipo VARCHAR(80)\r\n",
                ");       \r\n",
                ""
            ],
            "metadata": {
                "azdata_cell_guid": "7896794a-76f9-4847-bfb7-e174a43e0240"
            },
            "outputs": [
                {
                    "output_type": "display_data",
                    "data": {
                        "text/html": "Commands completed successfully."
                    },
                    "metadata": {}
                },
                {
                    "output_type": "display_data",
                    "data": {
                        "text/html": "Total execution time: 00:00:00.230"
                    },
                    "metadata": {}
                }
            ],
            "execution_count": 1
        },
        {
            "cell_type": "code",
            "source": [
                "-- ojo con el orden alfabetico\r\n",
                "CREATE TYPE ut_VerificaYa_Telefonos AS TABLE  \r\n",
                "(  \r\n",
                "    calidad VARCHAR(80),\r\n",
                "    clasificacion VARCHAR(80),\r\n",
                "\r\n",
                "    CreatedByQuery VARCHAR(max),\r\n",
                "    CreatedByUser VARCHAR(80),\r\n",
                "    CreatedFromProcess VARCHAR(8000),\r\n",
                "\r\n",
                "    ranking VARCHAR(80),\r\n",
                "    subtipo VARCHAR(80),\r\n",
                "    telefono VARCHAR(80),\r\n",
                "    tipo VARCHAR(80)\r\n",
                ")  \r\n",
                ""
            ],
            "metadata": {
                "azdata_cell_guid": "3506e100-a754-47b9-a51f-09b94dc7f026"
            },
            "outputs": [
                {
                    "output_type": "display_data",
                    "data": {
                        "text/html": "Commands completed successfully."
                    },
                    "metadata": {}
                },
                {
                    "output_type": "display_data",
                    "data": {
                        "text/html": "Total execution time: 00:00:00.521"
                    },
                    "metadata": {}
                }
            ],
            "execution_count": 6
        },
        {
            "cell_type": "code",
            "source": [
                "\r\n",
                "CREATE PROCEDURE [dbo].[usp_Insert_VerificaYa_Telefonos](@rows ut_VerificaYa_Telefonos READONLY)  \r\n",
                "AS  \r\n",
                "BEGIN  \r\n",
                "    INSERT INTO [VerificaYa].[Telefonos] \r\n",
                "    SELECT GETDATE(), CreatedByUser, CreatedFromProcess, CreatedByQuery, \r\n",
                "        telefono, clasificacion, ranking, calidad, tipo, subtipo\r\n",
                "    FROM @rows;\r\n",
                "END"
            ],
            "metadata": {
                "azdata_cell_guid": "512d953d-49b7-4905-9f23-d6c930e80d5e",
                "tags": []
            },
            "outputs": [
                {
                    "output_type": "display_data",
                    "data": {
                        "text/html": "Commands completed successfully."
                    },
                    "metadata": {}
                },
                {
                    "output_type": "display_data",
                    "data": {
                        "text/html": "Total execution time: 00:00:00.205"
                    },
                    "metadata": {}
                }
            ],
            "execution_count": 7
        },
        {
            "cell_type": "markdown",
            "source": [
                "Probar insertar un registro"
            ],
            "metadata": {
                "azdata_cell_guid": "2f9bf0fd-eaaf-4aed-ac39-b45aec450374"
            }
        },
        {
            "cell_type": "code",
            "source": [
                "DECLARE @table AS ut_VerificaYa_Telefonos;\r\n",
                "\r\n",
                "INSERT INTO @table\r\n",
                "\r\n",
                "(\r\n",
                "    CreatedByUser, CreatedFromProcess, CreatedByQuery,\r\n",
                "    telefono, clasificacion, ranking, calidad, tipo, subtipo\r\n",
                ")\r\n",
                "VALUES\r\n",
                "(\r\n",
                "    'dkottow', 'SQL', '10.562.459-K', \r\n",
                "    '+56997102487', 'telefono movil', '1', '1', 'personal', 'movil'\r\n",
                ")\r\n",
                "\r\n",
                "EXEC usp_Insert_VerificaYa_Telefonos @table\r\n",
                ""
            ],
            "metadata": {
                "azdata_cell_guid": "b16c06c0-60f3-4a5d-9a26-c0197769efe7"
            },
            "outputs": [
                {
                    "output_type": "display_data",
                    "data": {
                        "text/html": "(1 row affected)"
                    },
                    "metadata": {}
                },
                {
                    "output_type": "display_data",
                    "data": {
                        "text/html": "(1 row affected)"
                    },
                    "metadata": {}
                },
                {
                    "output_type": "display_data",
                    "data": {
                        "text/html": "Total execution time: 00:00:00.209"
                    },
                    "metadata": {}
                }
            ],
            "execution_count": 8
        }
    ]
}