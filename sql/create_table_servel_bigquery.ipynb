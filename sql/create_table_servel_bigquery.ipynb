{
    "metadata": {
        "kernelspec": {
            "name": "SQL",
            "display_name": "SQL",
            "language": "sql"
        },
        "language_info": {
            "name": "sql",
            "version": ""
        }
    },
    "nbformat_minor": 2,
    "nbformat": 4,
    "cells": [
        {
            "cell_type": "code",
            "source": [
                "CREATE SCHEMA BigQuery \r\n",
                "GO \r\n",
                ""
            ],
            "metadata": {
                "azdata_cell_guid": "145eb64d-5a6f-4f69-8067-f3d5cfb01a90"
            },
            "outputs": [],
            "execution_count": null
        },
        {
            "cell_type": "code",
            "source": [
                "DROP TABLE [BigQuery].[Servel]"
            ],
            "metadata": {
                "azdata_cell_guid": "dd5f6884-9ed9-409c-ba09-2e0479be7339"
            },
            "outputs": [],
            "execution_count": null
        },
        {
            "cell_type": "code",
            "source": [
                "CREATE TABLE [BigQuery].[Servel] ( \r\n",
                "    Id INT IDENTITY,\r\n",
                "    CreatedOn DATETIME,\r\n",
                "    CreatedFromProcess VARCHAR(8000),\r\n",
                "    CreatedByQuery VARCHAR(max),\r\n",
                "    domicilio_electoral VARCHAR(8000),\r\n",
                "    dv CHAR(1),\r\n",
                "    glosa_comuna VARCHAR(8000),\r\n",
                "    nombre VARCHAR(8000),\r\n",
                "    rut VARCHAR(8),\r\n",
                "    sexo INT\r\n",
                ");       \r\n",
                ""
            ],
            "metadata": {
                "azdata_cell_guid": "7896794a-76f9-4847-bfb7-e174a43e0240"
            },
            "outputs": [
                {
                    "output_type": "display_data",
                    "data": {
                        "text/html": "Commands completed successfully."
                    },
                    "metadata": {}
                },
                {
                    "output_type": "display_data",
                    "data": {
                        "text/html": "Commands completed successfully."
                    },
                    "metadata": {}
                },
                {
                    "output_type": "display_data",
                    "data": {
                        "text/html": "Total execution time: 00:00:00.395"
                    },
                    "metadata": {}
                }
            ],
            "execution_count": 1
        },
        {
            "cell_type": "code",
            "source": [
                "CREATE TYPE ut_BigQuery_Servel AS TABLE  \r\n",
                "(  \r\n",
                "    CreatedFromProcess VARCHAR(8000),\r\n",
                "    CreatedByQuery VARCHAR(max),\r\n",
                "    domicilio_electoral VARCHAR(8000),\r\n",
                "    dv CHAR(1),\r\n",
                "    glosa_comuna VARCHAR(8000),\r\n",
                "    nombre VARCHAR(8000),\r\n",
                "    rut VARCHAR(8),\r\n",
                "    sexo INT\r\n",
                ")  \r\n",
                ""
            ],
            "metadata": {
                "azdata_cell_guid": "3506e100-a754-47b9-a51f-09b94dc7f026"
            },
            "outputs": [
                {
                    "output_type": "display_data",
                    "data": {
                        "text/html": "Commands completed successfully."
                    },
                    "metadata": {}
                },
                {
                    "output_type": "display_data",
                    "data": {
                        "text/html": "Total execution time: 00:00:00.231"
                    },
                    "metadata": {}
                }
            ],
            "execution_count": 2
        },
        {
            "cell_type": "code",
            "source": [
                "DROP PROCEDURE [dbo].[usp_Insert_BigQuery_Servel]\r\n",
                ""
            ],
            "metadata": {
                "azdata_cell_guid": "eeb30cdf-5b82-48c6-8775-e40aec919e57"
            },
            "outputs": [],
            "execution_count": null
        },
        {
            "cell_type": "code",
            "source": [
                "\r\n",
                "CREATE PROCEDURE [dbo].[usp_Insert_BigQuery_Servel](@rows ut_BigQuery_Servel READONLY)  \r\n",
                "AS  \r\n",
                "BEGIN  \r\n",
                "    INSERT INTO [BigQuery].[Servel] \r\n",
                "    SELECT GETDATE(), CreatedFromProcess, CreatedByQuery, \r\n",
                "        domicilio_electoral, dv, glosa_comuna, nombre, rut, sexo \r\n",
                "    FROM @rows;  \r\n",
                "END  "
            ],
            "metadata": {
                "azdata_cell_guid": "512d953d-49b7-4905-9f23-d6c930e80d5e"
            },
            "outputs": [
                {
                    "output_type": "display_data",
                    "data": {
                        "text/html": "Commands completed successfully."
                    },
                    "metadata": {}
                },
                {
                    "output_type": "display_data",
                    "data": {
                        "text/html": "Total execution time: 00:00:00.178"
                    },
                    "metadata": {}
                }
            ],
            "execution_count": 1
        },
        {
            "cell_type": "markdown",
            "source": [
                "Probar insertar un registro usando tabla temporal"
            ],
            "metadata": {
                "azdata_cell_guid": "55a491c8-d5ef-460c-91b4-82fc820f89fc"
            }
        },
        {
            "cell_type": "code",
            "source": [
                "DECLARE @table AS ut_BigQuery_Servel;\r\n",
                "\r\n",
                "INSERT INTO @table\r\n",
                "(\r\n",
                "    CreatedFromProcess, CreatedByQuery,\r\n",
                "    domicilio_electoral, dv, glosa_comuna, nombre, rut, sexo\r\n",
                ")\r\n",
                "VALUES\r\n",
                "(\r\n",
                "    'Test', '10.562.459-K', \r\n",
                "    'Paris 712 H', 'k', 'Santiago', 'Daniel Kottow', '10562459', 0\r\n",
                ")\r\n",
                "\r\n",
                "EXEC usp_Insert_BigQuery_Servel @table\r\n",
                ""
            ],
            "metadata": {
                "azdata_cell_guid": "b16c06c0-60f3-4a5d-9a26-c0197769efe7"
            },
            "outputs": [
                {
                    "output_type": "display_data",
                    "data": {
                        "text/html": "(1 row affected)"
                    },
                    "metadata": {}
                },
                {
                    "output_type": "display_data",
                    "data": {
                        "text/html": "Total execution time: 00:00:00.166"
                    },
                    "metadata": {}
                }
            ],
            "execution_count": 10
        }
    ]
}